{
 "cells": [
  {
   "cell_type": "code",
   "execution_count": 2,
   "metadata": {},
   "outputs": [
    {
     "name": "stdout",
     "output_type": "stream",
     "text": [
      "Collecting seaborn\n",
      "  Using cached seaborn-0.10.1-py3-none-any.whl (215 kB)\n",
      "Collecting matplotlib>=2.1.2\n",
      "  Using cached matplotlib-3.3.1-cp38-cp38-manylinux1_x86_64.whl (11.6 MB)\n",
      "Collecting scipy>=1.0.1\n",
      "  Using cached scipy-1.5.2-cp38-cp38-manylinux1_x86_64.whl (25.7 MB)\n",
      "Requirement already satisfied: pandas>=0.22.0 in /home/gtechzilla/anaconda3/envs/tweet_influence/lib/python3.8/site-packages (from seaborn) (1.0.5)\n",
      "Requirement already satisfied: numpy>=1.13.3 in /home/gtechzilla/anaconda3/envs/tweet_influence/lib/python3.8/site-packages (from seaborn) (1.18.5)\n",
      "Requirement already satisfied: certifi>=2020.06.20 in /home/gtechzilla/anaconda3/envs/tweet_influence/lib/python3.8/site-packages (from matplotlib>=2.1.2->seaborn) (2020.6.20)\n",
      "Collecting kiwisolver>=1.0.1\n",
      "  Using cached kiwisolver-1.2.0-cp38-cp38-manylinux1_x86_64.whl (92 kB)\n",
      "Requirement already satisfied: python-dateutil>=2.1 in /home/gtechzilla/anaconda3/envs/tweet_influence/lib/python3.8/site-packages (from matplotlib>=2.1.2->seaborn) (2.8.1)\n",
      "Collecting cycler>=0.10\n",
      "  Using cached cycler-0.10.0-py2.py3-none-any.whl (6.5 kB)\n",
      "Requirement already satisfied: pyparsing!=2.0.4,!=2.1.2,!=2.1.6,>=2.0.3 in /home/gtechzilla/anaconda3/envs/tweet_influence/lib/python3.8/site-packages (from matplotlib>=2.1.2->seaborn) (2.4.7)\n",
      "Collecting pillow>=6.2.0\n",
      "  Using cached Pillow-7.2.0-cp38-cp38-manylinux1_x86_64.whl (2.2 MB)\n",
      "Requirement already satisfied: pytz>=2017.2 in /home/gtechzilla/anaconda3/envs/tweet_influence/lib/python3.8/site-packages (from pandas>=0.22.0->seaborn) (2020.1)\n",
      "Requirement already satisfied: six>=1.5 in /home/gtechzilla/anaconda3/envs/tweet_influence/lib/python3.8/site-packages (from python-dateutil>=2.1->matplotlib>=2.1.2->seaborn) (1.15.0)\n",
      "Installing collected packages: kiwisolver, cycler, pillow, matplotlib, scipy, seaborn\n",
      "Successfully installed cycler-0.10.0 kiwisolver-1.2.0 matplotlib-3.3.1 pillow-7.2.0 scipy-1.5.2 seaborn-0.10.1\n"
     ]
    }
   ],
   "source": [
    "import pandas as pd\n",
    "import numpy as np\n",
    "!pip install seaborn\n",
    "import seaborn as sns\n"
   ]
  },
  {
   "cell_type": "code",
   "execution_count": 4,
   "metadata": {},
   "outputs": [
    {
     "name": "stdout",
     "output_type": "stream",
     "text": [
      "Requirement already satisfied: tweepy in /home/gtechzilla/anaconda3/envs/tweet_influence/lib/python3.8/site-packages (3.9.0)\n",
      "Requirement already satisfied: six>=1.10.0 in /home/gtechzilla/anaconda3/envs/tweet_influence/lib/python3.8/site-packages (from tweepy) (1.15.0)\n",
      "Requirement already satisfied: requests-oauthlib>=0.7.0 in /home/gtechzilla/anaconda3/envs/tweet_influence/lib/python3.8/site-packages (from tweepy) (1.3.0)\n",
      "Requirement already satisfied: requests[socks]>=2.11.1 in /home/gtechzilla/anaconda3/envs/tweet_influence/lib/python3.8/site-packages (from tweepy) (2.24.0)\n",
      "Requirement already satisfied: oauthlib>=3.0.0 in /home/gtechzilla/anaconda3/envs/tweet_influence/lib/python3.8/site-packages (from requests-oauthlib>=0.7.0->tweepy) (3.1.0)\n",
      "Requirement already satisfied: idna<3,>=2.5 in /home/gtechzilla/anaconda3/envs/tweet_influence/lib/python3.8/site-packages (from requests[socks]>=2.11.1->tweepy) (2.10)\n",
      "Requirement already satisfied: certifi>=2017.4.17 in /home/gtechzilla/anaconda3/envs/tweet_influence/lib/python3.8/site-packages (from requests[socks]>=2.11.1->tweepy) (2020.6.20)\n",
      "Requirement already satisfied: chardet<4,>=3.0.2 in /home/gtechzilla/anaconda3/envs/tweet_influence/lib/python3.8/site-packages (from requests[socks]>=2.11.1->tweepy) (3.0.4)\n",
      "Requirement already satisfied: urllib3!=1.25.0,!=1.25.1,<1.26,>=1.21.1 in /home/gtechzilla/anaconda3/envs/tweet_influence/lib/python3.8/site-packages (from requests[socks]>=2.11.1->tweepy) (1.25.9)\n",
      "Requirement already satisfied: PySocks!=1.5.7,>=1.5.6; extra == \"socks\" in /home/gtechzilla/anaconda3/envs/tweet_influence/lib/python3.8/site-packages (from requests[socks]>=2.11.1->tweepy) (1.7.1)\n"
     ]
    }
   ],
   "source": [
    "!pip install tweepy\n",
    "import tweepy                   # Python wrapper around Twitter API\n",
    "from datetime import date\n",
    "from datetime import datetime\n",
    "import time\n",
    "import keys"
   ]
  },
  {
   "cell_type": "code",
   "execution_count": 5,
   "metadata": {},
   "outputs": [],
   "source": [
    "api_key = keys.api_key\n",
    "api_secret_key = keys.api_secret_key\n",
    "access_token = keys.access_token\n",
    "access_token_secret = keys.access_token_secret\n",
    "auth = tweepy.OAuthHandler(api_key, api_secret_key)\n",
    "auth.set_access_token(access_token, access_token_secret)\n",
    "api = tweepy.API(auth)\n"
   ]
  },
  {
   "cell_type": "code",
   "execution_count": 6,
   "metadata": {},
   "outputs": [],
   "source": [
    "def limit_handled(cursor, list_name):\n",
    "    \"\"\"Function to catch the tweepy api rate limit\"\"\"\n",
    "    while True:\n",
    "        try:\n",
    "            yield cursor.next()    # Catch Twitter API rate limit exception and wait for 15 minutes\n",
    "        except tweepy.RateLimitError:\n",
    "            print(\"\\nData points in list = {}\".format(len(list_name)))\n",
    "            print('Hit Twitter API rate limit.')\n",
    "            for i in range(3, 0, -1):\n",
    "                print(\"Wait for {} mins.\".format(i * 5))\n",
    "                time.sleep(5 * 60)    # Catch any other Twitter API exceptions\n",
    "        except tweepy.error.TweepError:\n",
    "            print('\\nCaught TweepError exception' )\n",
    "        except StopIteration:\n",
    "            break\n",
    "            \n",
    "#function to get tweets\n",
    "def get_all_tweets_info(handle):\n",
    "    \"\"\"Gets the follwing information from a twitter account number of likes,number of retweets,number of tweets\"\"\"\n",
    "    alltweets = []  \n",
    "    new_tweets = api.user_timeline(screen_name = handle,count=200)\n",
    "    alltweets.extend(new_tweets)\n",
    "    oldest = alltweets[-1].id - 1 \n",
    "    while len(new_tweets) > 0:\n",
    "        print(\"getting tweets before %s\" % (oldest))    # all subsequent requests use the max_id param to prevent\n",
    "        # duplicates\n",
    "        new_tweets = api.user_timeline(screen_name = handle,count=200,max_id=oldest)    # save most recent tweets\n",
    "        alltweets.extend(new_tweets)    # update the id of the oldest tweet less one\n",
    "        oldest = alltweets[-1].id - 1\n",
    "        print(\"...%s tweets downloaded so far\" % (len(alltweets)))\n",
    "    tweets_list = []\n",
    "    likes = []\n",
    "    retweet_count = []\n",
    "    \n",
    "    for tweet in alltweets:\n",
    "        tweets_text = tweet.text\n",
    "        tweets_likes = tweet.favorite_count\n",
    "        tweets_retweeted = tweet.retweeted\n",
    "\n",
    "        \n",
    "        tweets_list.append(tweets_text)\n",
    "        likes.append(tweets_likes)\n",
    "        retweet_count.append(tweets_retweeted)\n",
    "        \n",
    "    return len(tweets_list),sum(likes),sum(retweet_count)\n",
    "    \n",
    "def followers_count(handle):\n",
    "    \"\"\" Determines the number of followers for a given twitter account\"\"\"\n",
    "  \n",
    "    followers_list = []\n",
    "    cursor = tweepy.Cursor(api.followers,screen_name=handle,count=200).pages()\n",
    "    print(\"loading followers number\")\n",
    "    for i, page in enumerate(limit_handled(cursor, followers_list)):  \n",
    "\n",
    "        # Add latest batch of follower data to the list\n",
    "        followers_list += page\n",
    "    follower_count = len(followers_list)\n",
    "    return follower_count\n",
    "\n",
    "def following_count(handle):\n",
    "    \"\"\"Determines the number of people following a given twitter account\"\"\"\n",
    "    following_list = []\n",
    "    cursor = tweepy.Cursor(api.friends,screen_name=handle,count=200).pages()\n",
    "    print(\"Loading following numbers\")\n",
    "    for i,page in enumerate(limit_handled(cursor, following_list)):\n",
    "        following_list += page\n",
    "    friends_count = len(following_list)\n",
    "    return friends_count "
   ]
  },
  {
   "cell_type": "code",
   "execution_count": 7,
   "metadata": {},
   "outputs": [
    {
     "name": "stdout",
     "output_type": "stream",
     "text": [
      "getting tweets before 1126970263160139775\n",
      "...395 tweets downloaded so far\n",
      "getting tweets before 787330835582160895\n",
      "...415 tweets downloaded so far\n",
      "getting tweets before 579974579231260671\n",
      "...415 tweets downloaded so far\n",
      "loading followers number\n",
      "Loading following numbers\n"
     ]
    }
   ],
   "source": [
    "tweets_count,likes_count,retweet_count = get_all_tweets_info('okiomagerald')\n",
    "fllwing_count = followers_count('okiomagerald')\n",
    "follow_c = following_count('okiomagerald')"
   ]
  },
  {
   "cell_type": "code",
   "execution_count": 8,
   "metadata": {},
   "outputs": [
    {
     "name": "stdout",
     "output_type": "stream",
     "text": [
      "415\n",
      "465\n",
      "166\n"
     ]
    }
   ],
   "source": [
    "print(tweets_count)\n",
    "print(likes_count)\n",
    "print(retweet_count)"
   ]
  },
  {
   "cell_type": "code",
   "execution_count": 9,
   "metadata": {},
   "outputs": [
    {
     "name": "stdout",
     "output_type": "stream",
     "text": [
      "214\n",
      "296\n"
     ]
    }
   ],
   "source": [
    "print(fllwing_count)\n",
    "print(follow_c)"
   ]
  },
  {
   "cell_type": "code",
   "execution_count": 16,
   "metadata": {},
   "outputs": [],
   "source": [
    "def popularity_score(retweet_count,likes_count):\n",
    "    pop_score = retweet_count + likes_count\n",
    "    print(pop_score)\n",
    "    return pop_score\n",
    "\n",
    "def reach_score(followers_count,following_count):\n",
    "    score = followers_count - following_count\n",
    "    print(score)\n",
    "    return score\n",
    "\n",
    "def relevance_score(comments_count,mentions_count):\n",
    "    rel_score = comments_count + mentions_count\n",
    "    print(rel_score)\n",
    "    return rel_score"
   ]
  },
  {
   "cell_type": "code",
   "execution_count": 17,
   "metadata": {},
   "outputs": [
    {
     "name": "stdout",
     "output_type": "stream",
     "text": [
      "880\n"
     ]
    },
    {
     "data": {
      "text/plain": [
       "880"
      ]
     },
     "execution_count": 17,
     "metadata": {},
     "output_type": "execute_result"
    }
   ],
   "source": [
    "popularity_score(tweets_count,likes_count)"
   ]
  },
  {
   "cell_type": "code",
   "execution_count": null,
   "metadata": {},
   "outputs": [],
   "source": [
    "#dataframe for our data\n",
    "data_tweets = pd.DataFrame(columns=['Handle','N_tweets','N_likes','N_retweeted','N_followed','N_following'])"
   ]
  }
 ],
 "metadata": {
  "kernelspec": {
   "display_name": "Python 3",
   "language": "python",
   "name": "python3"
  },
  "language_info": {
   "codemirror_mode": {
    "name": "ipython",
    "version": 3
   },
   "file_extension": ".py",
   "mimetype": "text/x-python",
   "name": "python",
   "nbconvert_exporter": "python",
   "pygments_lexer": "ipython3",
   "version": "3.8.3"
  }
 },
 "nbformat": 4,
 "nbformat_minor": 4
}
